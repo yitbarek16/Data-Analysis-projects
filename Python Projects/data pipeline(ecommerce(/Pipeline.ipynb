{
 "cells": [
  {
   "cell_type": "markdown",
   "id": "4801c244-0509-47f8-859e-6e5e2752ae7c",
   "metadata": {},
   "source": [
    "### End-to-End Data Pipeline and Dashboard Creation for E-Commerce Analysis"
   ]
  },
  {
   "cell_type": "markdown",
   "id": "dfb82f1d-fa44-44ff-b29a-f9dd6cac9a6c",
   "metadata": {},
   "source": [
    "#### Pipeline Implementation by  `Yitbarek Tesfaye`"
   ]
  },
  {
   "cell_type": "markdown",
   "id": "b9cc4b2e-2f09-4992-bc52-896777841536",
   "metadata": {},
   "source": [
    "##### Load the Dataset"
   ]
  },
  {
   "cell_type": "code",
   "execution_count": 4,
   "id": "578705bc-0124-4f37-803f-b66c25c86734",
   "metadata": {},
   "outputs": [
    {
     "data": {
      "text/html": [
       "<div>\n",
       "<style scoped>\n",
       "    .dataframe tbody tr th:only-of-type {\n",
       "        vertical-align: middle;\n",
       "    }\n",
       "\n",
       "    .dataframe tbody tr th {\n",
       "        vertical-align: top;\n",
       "    }\n",
       "\n",
       "    .dataframe thead th {\n",
       "        text-align: right;\n",
       "    }\n",
       "</style>\n",
       "<table border=\"1\" class=\"dataframe\">\n",
       "  <thead>\n",
       "    <tr style=\"text-align: right;\">\n",
       "      <th></th>\n",
       "      <th>InvoiceNo</th>\n",
       "      <th>StockCode</th>\n",
       "      <th>Description</th>\n",
       "      <th>Quantity</th>\n",
       "      <th>InvoiceDate</th>\n",
       "      <th>UnitPrice</th>\n",
       "      <th>CustomerID</th>\n",
       "      <th>Country</th>\n",
       "    </tr>\n",
       "  </thead>\n",
       "  <tbody>\n",
       "    <tr>\n",
       "      <th>0</th>\n",
       "      <td>536365</td>\n",
       "      <td>85123A</td>\n",
       "      <td>WHITE HANGING HEART T-LIGHT HOLDER</td>\n",
       "      <td>6</td>\n",
       "      <td>2010-12-01 08:26:00</td>\n",
       "      <td>2.55</td>\n",
       "      <td>17850.0</td>\n",
       "      <td>United Kingdom</td>\n",
       "    </tr>\n",
       "    <tr>\n",
       "      <th>1</th>\n",
       "      <td>536365</td>\n",
       "      <td>71053</td>\n",
       "      <td>WHITE METAL LANTERN</td>\n",
       "      <td>6</td>\n",
       "      <td>2010-12-01 08:26:00</td>\n",
       "      <td>3.39</td>\n",
       "      <td>17850.0</td>\n",
       "      <td>United Kingdom</td>\n",
       "    </tr>\n",
       "    <tr>\n",
       "      <th>2</th>\n",
       "      <td>536365</td>\n",
       "      <td>84406B</td>\n",
       "      <td>CREAM CUPID HEARTS COAT HANGER</td>\n",
       "      <td>8</td>\n",
       "      <td>2010-12-01 08:26:00</td>\n",
       "      <td>2.75</td>\n",
       "      <td>17850.0</td>\n",
       "      <td>United Kingdom</td>\n",
       "    </tr>\n",
       "    <tr>\n",
       "      <th>3</th>\n",
       "      <td>536365</td>\n",
       "      <td>84029G</td>\n",
       "      <td>KNITTED UNION FLAG HOT WATER BOTTLE</td>\n",
       "      <td>6</td>\n",
       "      <td>2010-12-01 08:26:00</td>\n",
       "      <td>3.39</td>\n",
       "      <td>17850.0</td>\n",
       "      <td>United Kingdom</td>\n",
       "    </tr>\n",
       "    <tr>\n",
       "      <th>4</th>\n",
       "      <td>536365</td>\n",
       "      <td>84029E</td>\n",
       "      <td>RED WOOLLY HOTTIE WHITE HEART.</td>\n",
       "      <td>6</td>\n",
       "      <td>2010-12-01 08:26:00</td>\n",
       "      <td>3.39</td>\n",
       "      <td>17850.0</td>\n",
       "      <td>United Kingdom</td>\n",
       "    </tr>\n",
       "  </tbody>\n",
       "</table>\n",
       "</div>"
      ],
      "text/plain": [
       "  InvoiceNo StockCode                          Description  Quantity  \\\n",
       "0    536365    85123A   WHITE HANGING HEART T-LIGHT HOLDER         6   \n",
       "1    536365     71053                  WHITE METAL LANTERN         6   \n",
       "2    536365    84406B       CREAM CUPID HEARTS COAT HANGER         8   \n",
       "3    536365    84029G  KNITTED UNION FLAG HOT WATER BOTTLE         6   \n",
       "4    536365    84029E       RED WOOLLY HOTTIE WHITE HEART.         6   \n",
       "\n",
       "          InvoiceDate  UnitPrice  CustomerID         Country  \n",
       "0 2010-12-01 08:26:00       2.55     17850.0  United Kingdom  \n",
       "1 2010-12-01 08:26:00       3.39     17850.0  United Kingdom  \n",
       "2 2010-12-01 08:26:00       2.75     17850.0  United Kingdom  \n",
       "3 2010-12-01 08:26:00       3.39     17850.0  United Kingdom  \n",
       "4 2010-12-01 08:26:00       3.39     17850.0  United Kingdom  "
      ]
     },
     "execution_count": 4,
     "metadata": {},
     "output_type": "execute_result"
    }
   ],
   "source": [
    "import pandas as pd\n",
    "\n",
    "# Load the dataset\n",
    "\n",
    "df = pd.read_excel(\"Online Retail.xlsx\")\n",
    "\n",
    "# Preview data\n",
    "df.head()\n"
   ]
  },
  {
   "cell_type": "markdown",
   "id": "248df43c-aaf2-4902-b85a-57b96df8bb3f",
   "metadata": {},
   "source": [
    "##### Installing appropriate packeges"
   ]
  },
  {
   "cell_type": "code",
   "execution_count": 10,
   "id": "616ba426-cb97-4dd7-8360-b2b64d6110b4",
   "metadata": {},
   "outputs": [
    {
     "name": "stdout",
     "output_type": "stream",
     "text": [
      "Collecting pymysql\n",
      "  Downloading PyMySQL-1.1.1-py3-none-any.whl.metadata (4.4 kB)\n",
      "Requirement already satisfied: sqlalchemy in c:\\users\\user\\anaconda3\\lib\\site-packages (2.0.30)\n",
      "Requirement already satisfied: typing-extensions>=4.6.0 in c:\\users\\user\\anaconda3\\lib\\site-packages (from sqlalchemy) (4.11.0)\n",
      "Requirement already satisfied: greenlet!=0.4.17 in c:\\users\\user\\anaconda3\\lib\\site-packages (from sqlalchemy) (3.0.1)\n",
      "Downloading PyMySQL-1.1.1-py3-none-any.whl (44 kB)\n",
      "   ---------------------------------------- 0.0/45.0 kB ? eta -:--:--\n",
      "   --------------------------- ------------ 30.7/45.0 kB ? eta -:--:--\n",
      "   ------------------------------------ --- 41.0/45.0 kB 217.9 kB/s eta 0:00:01\n",
      "   ------------------------------------ --- 41.0/45.0 kB 217.9 kB/s eta 0:00:01\n",
      "   ------------------------------------ --- 41.0/45.0 kB 217.9 kB/s eta 0:00:01\n",
      "   ---------------------------------------- 45.0/45.0 kB 147.8 kB/s eta 0:00:00\n",
      "Installing collected packages: pymysql\n",
      "Successfully installed pymysql-1.1.1\n",
      "Note: you may need to restart the kernel to use updated packages.\n"
     ]
    }
   ],
   "source": [
    "pip install pymysql sqlalchemy\n"
   ]
  },
  {
   "cell_type": "markdown",
   "id": "4f216933-e8fa-4ad8-bf84-8b0ca865f820",
   "metadata": {},
   "source": [
    "##### Clean and Preprocess"
   ]
  },
  {
   "cell_type": "code",
   "execution_count": 8,
   "id": "ebb5451f-3bf7-4920-a42b-672dfb363a36",
   "metadata": {},
   "outputs": [
    {
     "data": {
      "text/html": [
       "<div>\n",
       "<style scoped>\n",
       "    .dataframe tbody tr th:only-of-type {\n",
       "        vertical-align: middle;\n",
       "    }\n",
       "\n",
       "    .dataframe tbody tr th {\n",
       "        vertical-align: top;\n",
       "    }\n",
       "\n",
       "    .dataframe thead th {\n",
       "        text-align: right;\n",
       "    }\n",
       "</style>\n",
       "<table border=\"1\" class=\"dataframe\">\n",
       "  <thead>\n",
       "    <tr style=\"text-align: right;\">\n",
       "      <th></th>\n",
       "      <th>InvoiceNo</th>\n",
       "      <th>StockCode</th>\n",
       "      <th>Description</th>\n",
       "      <th>Quantity</th>\n",
       "      <th>InvoiceDate</th>\n",
       "      <th>UnitPrice</th>\n",
       "      <th>CustomerID</th>\n",
       "      <th>Country</th>\n",
       "      <th>TotalRevenue</th>\n",
       "    </tr>\n",
       "  </thead>\n",
       "  <tbody>\n",
       "    <tr>\n",
       "      <th>0</th>\n",
       "      <td>536365</td>\n",
       "      <td>85123A</td>\n",
       "      <td>WHITE HANGING HEART T-LIGHT HOLDER</td>\n",
       "      <td>6</td>\n",
       "      <td>2010-12-01 08:26:00</td>\n",
       "      <td>2.55</td>\n",
       "      <td>17850.0</td>\n",
       "      <td>United Kingdom</td>\n",
       "      <td>15.30</td>\n",
       "    </tr>\n",
       "    <tr>\n",
       "      <th>1</th>\n",
       "      <td>536365</td>\n",
       "      <td>71053</td>\n",
       "      <td>WHITE METAL LANTERN</td>\n",
       "      <td>6</td>\n",
       "      <td>2010-12-01 08:26:00</td>\n",
       "      <td>3.39</td>\n",
       "      <td>17850.0</td>\n",
       "      <td>United Kingdom</td>\n",
       "      <td>20.34</td>\n",
       "    </tr>\n",
       "    <tr>\n",
       "      <th>2</th>\n",
       "      <td>536365</td>\n",
       "      <td>84406B</td>\n",
       "      <td>CREAM CUPID HEARTS COAT HANGER</td>\n",
       "      <td>8</td>\n",
       "      <td>2010-12-01 08:26:00</td>\n",
       "      <td>2.75</td>\n",
       "      <td>17850.0</td>\n",
       "      <td>United Kingdom</td>\n",
       "      <td>22.00</td>\n",
       "    </tr>\n",
       "    <tr>\n",
       "      <th>3</th>\n",
       "      <td>536365</td>\n",
       "      <td>84029G</td>\n",
       "      <td>KNITTED UNION FLAG HOT WATER BOTTLE</td>\n",
       "      <td>6</td>\n",
       "      <td>2010-12-01 08:26:00</td>\n",
       "      <td>3.39</td>\n",
       "      <td>17850.0</td>\n",
       "      <td>United Kingdom</td>\n",
       "      <td>20.34</td>\n",
       "    </tr>\n",
       "    <tr>\n",
       "      <th>4</th>\n",
       "      <td>536365</td>\n",
       "      <td>84029E</td>\n",
       "      <td>RED WOOLLY HOTTIE WHITE HEART.</td>\n",
       "      <td>6</td>\n",
       "      <td>2010-12-01 08:26:00</td>\n",
       "      <td>3.39</td>\n",
       "      <td>17850.0</td>\n",
       "      <td>United Kingdom</td>\n",
       "      <td>20.34</td>\n",
       "    </tr>\n",
       "  </tbody>\n",
       "</table>\n",
       "</div>"
      ],
      "text/plain": [
       "  InvoiceNo StockCode                          Description  Quantity  \\\n",
       "0    536365    85123A   WHITE HANGING HEART T-LIGHT HOLDER         6   \n",
       "1    536365     71053                  WHITE METAL LANTERN         6   \n",
       "2    536365    84406B       CREAM CUPID HEARTS COAT HANGER         8   \n",
       "3    536365    84029G  KNITTED UNION FLAG HOT WATER BOTTLE         6   \n",
       "4    536365    84029E       RED WOOLLY HOTTIE WHITE HEART.         6   \n",
       "\n",
       "          InvoiceDate  UnitPrice  CustomerID         Country  TotalRevenue  \n",
       "0 2010-12-01 08:26:00       2.55     17850.0  United Kingdom         15.30  \n",
       "1 2010-12-01 08:26:00       3.39     17850.0  United Kingdom         20.34  \n",
       "2 2010-12-01 08:26:00       2.75     17850.0  United Kingdom         22.00  \n",
       "3 2010-12-01 08:26:00       3.39     17850.0  United Kingdom         20.34  \n",
       "4 2010-12-01 08:26:00       3.39     17850.0  United Kingdom         20.34  "
      ]
     },
     "execution_count": 8,
     "metadata": {},
     "output_type": "execute_result"
    }
   ],
   "source": [
    "# Drop rows with missing CustomerID\n",
    "df = df.dropna(subset=['CustomerID'])\n",
    "\n",
    "# Convert InvoiceDate to datetime\n",
    "df['InvoiceDate'] = pd.to_datetime(df['InvoiceDate'])\n",
    "\n",
    "# Remove duplicates\n",
    "df = df.drop_duplicates()\n",
    "\n",
    "#Remove outliers (e.g., negative Quantity or UnitPrice)\n",
    "df = df[(df['Quantity'] > 0) & (df['UnitPrice'] > 0)]\n",
    "\n",
    "# Add Total Revenue column\n",
    "df['TotalRevenue'] = df['Quantity'] * df['UnitPrice']\n",
    "df.head()\n"
   ]
  },
  {
   "cell_type": "markdown",
   "id": "b23e6a68-ca3d-4a2b-af77-e8de1ffb7d25",
   "metadata": {},
   "source": [
    " ##### Load into a Relational Database"
   ]
  },
  {
   "cell_type": "code",
   "execution_count": 11,
   "id": "5f8380f6-5996-4d91-a255-fd896ab66d82",
   "metadata": {},
   "outputs": [
    {
     "name": "stdout",
     "output_type": "stream",
     "text": [
      "Data uploaded to MySQL successfully!\n"
     ]
    }
   ],
   "source": [
    "import pandas as pd\n",
    "from sqlalchemy import create_engine\n",
    "\n",
    "# MySQL connection details\n",
    "username = \"root\"  # Replace with your MySQL username\n",
    "password = \"root\"  # Replace with your MySQL password\n",
    "host = \"localhost\"  # MySQL server address\n",
    "database = \"ecommerce\"  # Database name\n",
    "\n",
    "# Create an SQLAlchemy engine\n",
    "engine = create_engine(f\"mysql+pymysql://{username}:{password}@{host}/{database}\")\n",
    "\n",
    "# Load cleaned data into MySQL\n",
    "df.to_sql(\"ecommerce_data\", engine, if_exists=\"replace\", index=False)\n",
    "\n",
    "print(\"Data uploaded to MySQL successfully!\")\n"
   ]
  },
  {
   "cell_type": "markdown",
   "id": "bea65d5d-f848-4e0c-b740-0de6b76d9499",
   "metadata": {},
   "source": [
    "##### Save to a CSV for Later Use"
   ]
  },
  {
   "cell_type": "code",
   "execution_count": 12,
   "id": "63b520c9-3f1b-45c2-a95d-532f1445caaa",
   "metadata": {},
   "outputs": [],
   "source": [
    "df.to_csv(\"cleaned_ecommerce_data.csv\", index=False)"
   ]
  },
  {
   "cell_type": "markdown",
   "id": "697ffc29-d281-4bc3-a17c-bc68b09cf9cc",
   "metadata": {},
   "source": [
    " ##### Add Segments, AOV, and Hourly Transactions"
   ]
  },
  {
   "cell_type": "code",
   "execution_count": 4,
   "id": "ed028c01-c35a-437c-a146-2674c3edcffd",
   "metadata": {},
   "outputs": [
    {
     "name": "stdout",
     "output_type": "stream",
     "text": [
      "Merged data saved as 'mergeddata.csv'\n"
     ]
    }
   ],
   "source": [
    "import pandas as pd\n",
    "\n",
    "# Load the cleaned data\n",
    "data = pd.read_csv('cleaned_ecommerce_data.csv')\n",
    "\n",
    "# Step 1: Calculate Total Revenue for Each Row\n",
    "data['TotalRevenue'] = data['Quantity'] * data['UnitPrice']\n",
    "\n",
    "# Step 2: Add Customer Segments\n",
    "# Aggregate Total Revenue per Customer\n",
    "customer_revenue = data.groupby('CustomerID')['TotalRevenue'].sum().reset_index()\n",
    "\n",
    "# Define segments\n",
    "def assign_segment(revenue):\n",
    "    if revenue > 1000:\n",
    "        return 'High Spender'\n",
    "    elif revenue > 500:\n",
    "        return 'Medium Spender'\n",
    "    else:\n",
    "        return 'Low Spender'\n",
    "\n",
    "# Apply the segmentation\n",
    "customer_revenue['CustomerSegment'] = customer_revenue['TotalRevenue'].apply(assign_segment)\n",
    "\n",
    "# Merge the segments back into the main data\n",
    "data = data.merge(customer_revenue[['CustomerID', 'CustomerSegment']], on='CustomerID', how='left')\n",
    "\n",
    "# Step 3: Calculate AOV (Average Order Value)\n",
    "# Total Revenue and Count of Orders per Invoice\n",
    "order_data = data.groupby('InvoiceNo').agg(\n",
    "    TotalRevenuePerOrder=('TotalRevenue', 'sum'),\n",
    "    TotalItems=('InvoiceNo', 'size')\n",
    ").reset_index()\n",
    "\n",
    "# Merge AOV-related fields back into the main dataset\n",
    "data = data.merge(order_data[['InvoiceNo', 'TotalRevenuePerOrder']], on='InvoiceNo', how='left')\n",
    "\n",
    "# Step 4: Add Hour of Transaction\n",
    "data['InvoiceDate'] = pd.to_datetime(data['InvoiceDate'])  # Ensure datetime format\n",
    "data['HourOfDay'] = data['InvoiceDate'].dt.hour\n",
    "\n",
    "# Step 5: Save the Merged Data\n",
    "data.to_csv('mergeddata.csv', index=False)\n",
    "\n",
    "print(\"Merged data saved as 'mergeddata.csv'\")\n"
   ]
  },
  {
   "cell_type": "markdown",
   "id": "b30123ef-3174-44d9-b401-b3a56f173a55",
   "metadata": {},
   "source": [
    "##### Calculate Average Order Value (AOV)"
   ]
  },
  {
   "cell_type": "code",
   "execution_count": 2,
   "id": "47872d06-8305-4371-887c-e591b97122aa",
   "metadata": {},
   "outputs": [
    {
     "name": "stdout",
     "output_type": "stream",
     "text": [
      "Average Order Value (AOV): 479.56016047917126\n"
     ]
    }
   ],
   "source": [
    "import pandas as pd\n",
    "\n",
    "# Load the cleaned data\n",
    "data = pd.read_csv('cleaned_ecommerce_data.csv')\n",
    "\n",
    "# Calculate Total Revenue per Invoice\n",
    "data['TotalRevenue'] = data['Quantity'] * data['UnitPrice']\n",
    "\n",
    "# Group by InvoiceNo to calculate the Total Revenue per Order\n",
    "order_data = data.groupby('InvoiceNo').agg(\n",
    "    TotalRevenue=('TotalRevenue', 'sum'),\n",
    "    TotalOrders=('InvoiceNo', 'count')\n",
    ").reset_index()\n",
    "\n",
    "# Calculate AOV\n",
    "aov = order_data['TotalRevenue'].sum() / order_data['InvoiceNo'].nunique()\n",
    "print(f\"Average Order Value (AOV): {aov}\")\n",
    "\n"
   ]
  },
  {
   "cell_type": "markdown",
   "id": "915730f8-bfe6-4316-86f7-4f2a224f99de",
   "metadata": {},
   "source": [
    "#####  Transactions by Hour of Day"
   ]
  },
  {
   "cell_type": "code",
   "execution_count": 3,
   "id": "32613ddf-bc91-43e0-be24-21db31eae0a1",
   "metadata": {},
   "outputs": [
    {
     "name": "stdout",
     "output_type": "stream",
     "text": [
      "    HourOfDay  Transactions\n",
      "0           6             1\n",
      "1           7            29\n",
      "2           8           555\n",
      "3           9          1393\n",
      "4          10          2226\n",
      "5          11          2277\n",
      "6          12          3130\n",
      "7          13          2636\n",
      "8          14          2274\n",
      "9          15          2037\n",
      "10         16          1100\n",
      "11         17           544\n",
      "12         18           169\n",
      "13         19           144\n",
      "14         20            18\n"
     ]
    }
   ],
   "source": [
    "# Ensure InvoiceDate is in datetime format\n",
    "data['InvoiceDate'] = pd.to_datetime(data['InvoiceDate'])\n",
    "\n",
    "# Extract hour from InvoiceDate\n",
    "data['HourOfDay'] = data['InvoiceDate'].dt.hour\n",
    "\n",
    "# Count transactions by Hour of Day\n",
    "hourly_transactions = data.groupby('HourOfDay').agg(\n",
    "    Transactions=('InvoiceNo', 'nunique')  # Count distinct invoices\n",
    ").reset_index()\n",
    "\n",
    "\n",
    "print(hourly_transactions)\n"
   ]
  }
 ],
 "metadata": {
  "kernelspec": {
   "display_name": "Python 3 (ipykernel)",
   "language": "python",
   "name": "python3"
  },
  "language_info": {
   "codemirror_mode": {
    "name": "ipython",
    "version": 3
   },
   "file_extension": ".py",
   "mimetype": "text/x-python",
   "name": "python",
   "nbconvert_exporter": "python",
   "pygments_lexer": "ipython3",
   "version": "3.12.4"
  }
 },
 "nbformat": 4,
 "nbformat_minor": 5
}
